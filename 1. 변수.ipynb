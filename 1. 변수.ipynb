{
 "cells": [
  {
   "cell_type": "markdown",
   "id": "49589d5d",
   "metadata": {},
   "source": [
    "# 변수\n",
    "\n",
    "## 1. 변수\n",
    "\n",
    "### **대입 연산자 ‘=’**\n",
    "\n",
    "**변수**란 값을 저장하는 메모리 공간. 비유를 하자면 무엇을 담는 그릇 같은 역할이다. 변수는 **대입 연산자** `=`로 표현한다.\n",
    "\n",
    "`=`는 수학에서의 ‘같다’는 의미가 아닌, 오른쪽의 것을 왼쪽에 대입하라는 의미의 기호이다.\n",
    "\n",
    "덧셈은 기호 `+`, 뺄셈은 기호 `-`, 곱셈은 기호 `*`, 나눗셈은 기호 `/`를 사용한다."
   ]
  },
  {
   "cell_type": "code",
   "execution_count": null,
   "id": "77a79183",
   "metadata": {},
   "outputs": [],
   "source": [
    "num1 = 100 # 100이란 값이 num1에 저장된다.\n",
    "num2 = 200 # 200이란 값이 num2에 저장된다.\n",
    "\n",
    "result = num1 + num2\n",
    "# 여기서 result의 값은 300\n",
    "print(result)\n",
    "\n",
    "result = result + 100 # 기존 result에 저장됐던 값은 없어지고 새로운 값(300+100)으로 덮어씌워진다.\n",
    "# (새로운)result = (기존)result + 100\n",
    "print(result) # 여기서 result의 값은 400"
   ]
  },
  {
   "cell_type": "markdown",
   "id": "ff82466f",
   "metadata": {},
   "source": [
    "`=`의 오른쪽 부분이 모두 계산된 후 왼쪽으로 대입되므로, `=`의 왼쪽에 변수가 있어야 한다."
   ]
  },
  {
   "cell_type": "code",
   "execution_count": 3,
   "id": "1b572e6f",
   "metadata": {},
   "outputs": [],
   "source": [
    "# 잘못된 예시\n",
    "# 100 = num1 + num2 # 왼쪽에 넣을 수 있는 변수가 없어 오류가 발생한다.\n",
    "# num1 + num2 = result # 변수끼리 연산을 하여 오류가 발생한다."
   ]
  },
  {
   "cell_type": "markdown",
   "id": "7c8d7f9d",
   "metadata": {},
   "source": [
    "### 변수명\n",
    "\n",
    "변수명은 영문 및 숫자만 사용할 수 있다. 단, 변수명이 숫자로 시작하면 오류가 난다.\n",
    "\n",
    "또한 변수명에는 예약어(이미 파이썬 문법에 정의되어 사용되는 단어 - if, elif, else 등)를 쓰면 안 된다.\n",
    "\n",
    "**변수명에 한글을 사용할 수 있더라도 가급적이면 영어로 짓는 것을 추천한다.**"
   ]
  },
  {
   "cell_type": "code",
   "execution_count": 2,
   "id": "142724f7",
   "metadata": {},
   "outputs": [],
   "source": [
    "# 올바른 변수명 예시\n",
    "a = 1\n",
    "ab = 1\n",
    "a2 = 5\n",
    "aaaaaa = 3\n",
    "\n",
    "# 잘못된 변수명 예시\n",
    "# 23a = 1\n",
    "# 2222 = 1\n",
    "# else = 2"
   ]
  },
  {
   "cell_type": "markdown",
   "id": "32203ca6",
   "metadata": {},
   "source": [
    "변수명은 대문자와 소문자가 구분된다. 즉, sang과 Sang은 다른 변수이다.\n",
    "\n",
    "변수명을 지을 때는 막 짓지 말고 변수명만 봐도 변수의 의미를 파악할 수 있게 짓는 것이 좋다. 그리고 되도록이면 간단하고 짧게, 언더바 `_`나 대문자를 이용하여 알아보기 편하게 짓는다."
   ]
  },
  {
   "cell_type": "markdown",
   "id": "cd83f19f",
   "metadata": {},
   "source": [
    "## 2. print()\n",
    "\n",
    "`print()` 함수는 ()안의 내용을 출력한다."
   ]
  },
  {
   "cell_type": "code",
   "execution_count": null,
   "id": "fc4308a5",
   "metadata": {},
   "outputs": [],
   "source": [
    "# print 예제\n",
    "print(123)\n",
    "print('가나다')\n",
    "\n",
    "# 변수 출력\n",
    "num1 = 100\n",
    "num2 = 200\n",
    "num3 = num1 + num2\n",
    "print(num3)"
   ]
  },
  {
   "cell_type": "markdown",
   "id": "9129db0d",
   "metadata": {},
   "source": [
    "숫자나 변수가 아닌 내용을 출력할 때에는 괄호() 안에 큰따옴표나 작은 따옴표를 사용한다.\n",
    "\n",
    "괄호 안의 여러 개를 출력하고 싶다면 콤마 `,`로 구분한다."
   ]
  },
  {
   "cell_type": "code",
   "execution_count": null,
   "id": "d4479be8",
   "metadata": {},
   "outputs": [],
   "source": [
    "# 여러 값 출력\n",
    "num1 = 100\n",
    "num2 = 200\n",
    "num3 = num1 + num2\n",
    "\n",
    "print(num1, '+', num2, '=', num3)"
   ]
  },
  {
   "cell_type": "markdown",
   "id": "a7f6d029",
   "metadata": {},
   "source": [
    "## 3. input()\n",
    "\n",
    "`input()`는 사용자가 값을 직접 입력하게 할 수 있는 역할을 한다."
   ]
  },
  {
   "cell_type": "code",
   "execution_count": null,
   "id": "49f930ca",
   "metadata": {},
   "outputs": [],
   "source": [
    "# 입력값 받기\n",
    "name = input('이름을 입력하시오: ')\n",
    "print(f'안녕하세요, {name}님!')"
   ]
  },
  {
   "cell_type": "markdown",
   "id": "792978e4",
   "metadata": {},
   "source": [
    "### 숫자 입력 처리\n",
    "\n",
    "input() 함수는 문자열로 입력받으므로, 숫자로 처리하려면 int() 또는 float()을 사용해야 한다."
   ]
  },
  {
   "cell_type": "code",
   "execution_count": null,
   "id": "a41f4bf3",
   "metadata": {},
   "outputs": [],
   "source": [
    "# 숫자 입력과 연산\n",
    "num1 = int(input('숫자1 입력: '))\n",
    "num2 = int(input('숫자2 입력: '))\n",
    "result = num1 + num2\n",
    "\n",
    "print(f'{num1} + {num2} = {result}')"
   ]
  }
 ],
 "metadata": {
  "kernelspec": {
   "display_name": "Python 3",
   "language": "python",
   "name": "python3"
  },
  "language_info": {
   "codemirror_mode": {
    "name": "ipython",
    "version": 3
   },
   "file_extension": ".py",
   "mimetype": "text/x-python",
   "name": "python",
   "nbconvert_exporter": "python",
   "pygments_lexer": "ipython3",
   "version": "3.11.5"
  }
 },
 "nbformat": 4,
 "nbformat_minor": 5
}
